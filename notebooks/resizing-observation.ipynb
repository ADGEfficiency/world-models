{
 "cells": [
  {
   "cell_type": "markdown",
   "metadata": {},
   "source": [
    "## Observation resizing\n",
    "\n",
    "The major mistake in Agent One - a different process of resizing (namely the use of `Image.BILINEAR` :)"
   ]
  },
  {
   "cell_type": "code",
   "execution_count": 1,
   "metadata": {},
   "outputs": [
    {
     "name": "stdout",
     "output_type": "stream",
     "text": [
      "Track generation: 1097..1383 -> 286-tiles track\n"
     ]
    }
   ],
   "source": [
    "from gym.envs.box2d.car_racing import CarRacing\n",
    "import matplotlib.pyplot as plt\n",
    "import numpy as np\n",
    "from PIL import Image\n",
    "from scipy.misc import imresize as resize\n",
    "\n",
    "env = CarRacing()\n",
    "o = env.reset()\n",
    "for _ in range(100):\n",
    "    o, r, no, d = env.step(env.action_space.sample())\n",
    "    env.viewer.window.dispatch_events()\n",
    "env.close()"
   ]
  },
  {
   "cell_type": "code",
   "execution_count": 3,
   "metadata": {},
   "outputs": [
    {
     "data": {
      "text/plain": [
       "<matplotlib.image.AxesImage at 0x12fa177f0>"
      ]
     },
     "execution_count": 3,
     "metadata": {},
     "output_type": "execute_result"
    },
    {
     "data": {
      "image/png": "[encoded data removed]",
      "text/plain": [
       "<Figure size 432x288 with 1 Axes>"
      ]
     },
     "metadata": {
      "needs_background": "light"
     },
     "output_type": "display_data"
    }
   ],
   "source": [
    "f, a = plt.subplots()\n",
    "proc = ((o).round()).astype(np.uint8)\n",
    "img = Image.fromarray(o).resize((64*3, 64*3))\n",
    "a.imshow(img)"
   ]
  },
  {
   "cell_type": "code",
   "execution_count": 5,
   "metadata": {},
   "outputs": [
    {
     "data": {
      "text/plain": [
       "<matplotlib.image.AxesImage at 0x12e1c9a20>"
      ]
     },
     "execution_count": 5,
     "metadata": {},
     "output_type": "execute_result"
    },
    {
     "data": {
      "image/png": "[encoded data removed]",
      "text/plain": [
       "<Figure size 432x288 with 1 Axes>"
      ]
     },
     "metadata": {
      "needs_background": "light"
     },
     "output_type": "display_data"
    }
   ],
   "source": [
    "f, a = plt.subplots()\n",
    "a.imshow(o)"
   ]
  },
  {
   "cell_type": "markdown",
   "metadata": {},
   "source": [
    "## Comparing image processing"
   ]
  },
  {
   "cell_type": "code",
   "execution_count": 6,
   "metadata": {},
   "outputs": [
    {
     "data": {
      "text/plain": [
       "<matplotlib.image.AxesImage at 0x12e1c97b8>"
      ]
     },
     "execution_count": 6,
     "metadata": {},
     "output_type": "execute_result"
    },
    {
     "data": {
      "image/png": "[encoded data removed]",
      "text/plain": [
       "<Figure size 432x288 with 1 Axes>"
      ]
     },
     "metadata": {
      "needs_background": "light"
     },
     "output_type": "display_data"
    }
   ],
   "source": [
    "f, a = plt.subplots()\n",
    "a.imshow(o[:, :, :])"
   ]
  },
  {
   "cell_type": "markdown",
   "metadata": {},
   "source": [
    "Resizing incorrectly:"
   ]
  },
  {
   "cell_type": "code",
   "execution_count": 7,
   "metadata": {},
   "outputs": [
    {
     "data": {
      "text/plain": [
       "<matplotlib.image.AxesImage at 0x12e50e710>"
      ]
     },
     "execution_count": 7,
     "metadata": {},
     "output_type": "execute_result"
    },
    {
     "data": {
      "image/png": "[encoded data removed]",
      "text/plain": [
       "<Figure size 432x288 with 1 Axes>"
      ]
     },
     "metadata": {
      "needs_background": "light"
     },
     "output_type": "display_data"
    }
   ],
   "source": [
    "def process_frame(frame, screen_size=None, vertical_cut=-1, max_val=255, save_img=False):\n",
    "    \"\"\" could be two functions  - resizing and saving\"\"\"\n",
    "    frame = frame[:vertical_cut, :, :]\n",
    "    frame = Image.fromarray(frame, mode='RGB')\n",
    "\n",
    "    obs = frame.resize(screen_size)\n",
    "    if save_img:\n",
    "        frame.save(results_dir+'/debug/raw_frame{}.png'.format(save_img), 'PNG')\n",
    "        obs.save(results_dir+'/debug/processed().png'.format(save_img), 'PNG')\n",
    "    return np.array(obs) / max_val\n",
    "\n",
    "f, a = plt.subplots()\n",
    "a.imshow(process_frame(o, screen_size=(64, 64), vertical_cut=84))"
   ]
  },
  {
   "cell_type": "code",
   "execution_count": 8,
   "metadata": {},
   "outputs": [
    {
     "data": {
      "text/plain": [
       "<matplotlib.image.AxesImage at 0x12ee40da0>"
      ]
     },
     "execution_count": 8,
     "metadata": {},
     "output_type": "execute_result"
    },
    {
     "data": {
      "image/png": "[encoded data removed]",
      "text/plain": [
       "<Figure size 432x288 with 1 Axes>"
      ]
     },
     "metadata": {
      "needs_background": "light"
     },
     "output_type": "display_data"
    }
   ],
   "source": [
    "def process_frame(frame, screen_size=None, vertical_cut=-1, max_val=255, save_img=False):\n",
    "    \"\"\" could be two functions  - resizing and saving\"\"\"\n",
    "    frame = frame[:vertical_cut, :, :]\n",
    "    frame = Image.fromarray(frame, mode='RGB')\n",
    "\n",
    "    obs = frame.resize(screen_size, Image.BILINEAR)\n",
    "    if save_img:\n",
    "        frame.save(results_dir+'/debug/raw_frame{}.png'.format(save_img), 'PNG')\n",
    "        obs.save(results_dir+'/debug/processed().png'.format(save_img), 'PNG')\n",
    "    return np.array(obs) / max_val\n",
    "\n",
    "f, a = plt.subplots()\n",
    "a.imshow(process_frame(o, screen_size=(64, 64), vertical_cut=84))"
   ]
  },
  {
   "cell_type": "code",
   "execution_count": 9,
   "metadata": {},
   "outputs": [
    {
     "name": "stderr",
     "output_type": "stream",
     "text": [
      "/Users/adam/.pyenv/versions/3.6.8/envs/world-models/lib/python3.6/site-packages/ipykernel_launcher.py:3: DeprecationWarning: `imresize` is deprecated!\n",
      "`imresize` is deprecated in SciPy 1.0.0, and will be removed in 1.3.0.\n",
      "Use Pillow instead: ``numpy.array(Image.fromarray(arr).resize())``.\n",
      "  This is separate from the ipykernel package so we can avoid doing imports until\n"
     ]
    },
    {
     "data": {
      "text/plain": [
       "<matplotlib.image.AxesImage at 0x131b2a5f8>"
      ]
     },
     "execution_count": 9,
     "metadata": {},
     "output_type": "execute_result"
    },
    {
     "data": {
      "image/png": "[encoded data removed]",
      "text/plain": [
       "<Figure size 432x288 with 1 Axes>"
      ]
     },
     "metadata": {
      "needs_background": "light"
     },
     "output_type": "display_data"
    }
   ],
   "source": [
    "def _process_frame(frame):\n",
    "    obs = frame[0:84, :, :].astype(np.float)/255.0\n",
    "    obs = resize(obs, (64, 64))\n",
    "    obs = ((1.0 - obs) * 255).round().astype(np.uint8)\n",
    "    return obs\n",
    "\n",
    "f, a = plt.subplots()\n",
    "a.imshow(_process_frame(o))"
   ]
  },
  {
   "cell_type": "code",
   "execution_count": null,
   "metadata": {},
   "outputs": [],
   "source": []
  }
 ],
 "metadata": {
  "kernelspec": {
   "display_name": "Python 3",
   "language": "python",
   "name": "python3"
  },
  "language_info": {
   "codemirror_mode": {
    "name": "ipython",
    "version": 3
   },
   "file_extension": ".py",
   "mimetype": "text/x-python",
   "name": "python",
   "nbconvert_exporter": "python",
   "pygments_lexer": "ipython3",
   "version": "3.6.8"
  }
 },
 "nbformat": 4,
 "nbformat_minor": 2
}
