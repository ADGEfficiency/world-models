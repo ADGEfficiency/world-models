{
 "cells": [
  {
   "cell_type": "markdown",
   "metadata": {},
   "source": [
    "## Up until 09/08/19\n",
    "\n",
    "Trained the vae, mem, lstm, controller\n",
    "\n",
    "rewards.log = progress so far\n",
    "\n",
    "\n",
    "## 10/08/19\n",
    "\n",
    "Realized I was processing the images differently - issue was due to he defaults for the interpertation boing different from scipy resize vs. PIL resize\n",
    "- see rendering-images.ipynb"
   ]
  }
 ],
 "metadata": {
  "kernelspec": {
   "display_name": "Python 3",
   "language": "python",
   "name": "python3"
  },
  "language_info": {
   "codemirror_mode": {
    "name": "ipython",
    "version": 3
   },
   "file_extension": ".py",
   "mimetype": "text/x-python",
   "name": "python",
   "nbconvert_exporter": "python",
   "pygments_lexer": "ipython3",
   "version": "3.6.8"
  }
 },
 "nbformat": 4,
 "nbformat_minor": 2
}
