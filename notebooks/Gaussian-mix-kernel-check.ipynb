{
 "cells": [
  {
   "cell_type": "markdown",
   "metadata": {},
   "source": [
    "## Gaussian mixture check\n",
    "\n",
    "For the gaussian mix. loss we need to form a Gaussian kernel, when we minimize negative log-likelihood."
   ]
  },
  {
   "cell_type": "code",
   "execution_count": null,
   "metadata": {},
   "outputs": [],
   "source": [
    "import math\n",
    "import numpy as np\n",
    "import tensorflow as tf\n",
    "import tensorflow_probability as tfp\n",
    "from tensorflow_probability import distributions as tfd"
   ]
  },
  {
   "cell_type": "code",
   "execution_count": null,
   "metadata": {},
   "outputs": [],
   "source": [
    "#  batch, time, features, mix\n",
    "mix = tf.random.uniform((2, 1, 2, 6))"
   ]
  },
  {
   "cell_type": "markdown",
   "metadata": {},
   "source": [
    "## Check probability of kernel"
   ]
  },
  {
   "cell_type": "code",
   "execution_count": null,
   "metadata": {},
   "outputs": [],
   "source": [
    "sample = 0\n",
    "mu = 0\n",
    "sig = 0.1\n",
    "\n",
    "nor = tfd.Normal(loc=mu, scale=sig)\n",
    "nor.prob(sample)"
   ]
  },
  {
   "cell_type": "code",
   "execution_count": null,
   "metadata": {},
   "outputs": [],
   "source": [
    "constant = 1 / math.sqrt(2 * math.pi)\n",
    "gaussian_kernel = np.subtract(sample, mu)\n",
    "gaussian_kernel = tf.square(tf.divide(gaussian_kernel, sig))\n",
    "gaussian_kernel = - 1/2 * gaussian_kernel\n",
    "tf.divide(tf.exp(gaussian_kernel), sig) * constant"
   ]
  },
  {
   "cell_type": "markdown",
   "metadata": {},
   "source": [
    "## Check log probs are the same"
   ]
  },
  {
   "cell_type": "code",
   "execution_count": null,
   "metadata": {},
   "outputs": [],
   "source": [
    "nor.log_prob(sample)"
   ]
  },
  {
   "cell_type": "code",
   "execution_count": null,
   "metadata": {},
   "outputs": [],
   "source": [
    "math.log(nor.prob(sample))"
   ]
  },
  {
   "cell_type": "markdown",
   "metadata": {},
   "source": [
    "## Incorporating more of the MDN"
   ]
  },
  {
   "cell_type": "markdown",
   "metadata": {},
   "source": [
    "http://blog.otoro.net/2015/11/24/mixture-density-networks-with-tensorflow/"
   ]
  },
  {
   "cell_type": "code",
   "execution_count": null,
   "metadata": {},
   "outputs": [],
   "source": [
    "inputs = tf.keras.Input(shape=(9,))\n",
    "\n",
    "# def get_mixture_coef(output):\n",
    "pi, sigma, mu = tf.split(inputs, 3, 1)\n",
    "\n",
    "#  put the pi's through a softmax\n",
    "#  remove the max\n",
    "max_pi = tf.reduce_max(pi, 1, keepdims=True)\n",
    "sub_pi = tf.subtract(max_pi, pi)\n",
    "exp_pi = tf.exp(sub_pi)\n",
    "\n",
    "out_pi = tf.divide(exp_pi, tf.reduce_sum(exp_pi, 1, keepdims=True))\n",
    "\n",
    "#  keep the standard deviations positive\n",
    "sigma = tf.exp(sigma)\n",
    "\n",
    "model = tf.keras.Model(inputs=inputs, outputs=[out_pi])"
   ]
  },
  {
   "cell_type": "code",
   "execution_count": null,
   "metadata": {},
   "outputs": [],
   "source": [
    "sample = np.random.rand(1,9)\n",
    "o = model.predict(sample)\n",
    "\n",
    "#  prints out each output at a time (inputs[0], inputs[1], pi[0], pi[1] etc)\\\n",
    "print(sample)\n",
    "for out in o:\n",
    "    for e in out:\n",
    "        print(e)"
   ]
  },
  {
   "cell_type": "code",
   "execution_count": null,
   "metadata": {},
   "outputs": [],
   "source": [
    "sum(out)"
   ]
  },
  {
   "cell_type": "code",
   "execution_count": null,
   "metadata": {},
   "outputs": [],
   "source": [
    "mean = np.array([10,20]).reshape(1, -1)\n",
    "sigma = np.array([1,1]).reshape(1, -1)\n",
    "sample = np.array([9,21]).reshape(1, -1)\n",
    "\n",
    "alphas = np.array([0.2, 0.8]).reshape(1, -1)  #  already softmaxed etc\n",
    "\n",
    "def make_gaussian_kernel(mean, sigma, sample):\n",
    "    constant = 1 / math.sqrt(2 * math.pi)\n",
    "    gaussian_kernel = np.subtract(sample, mean)\n",
    "    gaussian_kernel = np.square(np.divide(gaussian_kernel, sigma))\n",
    "    gaussian_kernel = - 1/2 * gaussian_kernel\n",
    "    conditional_probabilities = np.divide(np.exp(gaussian_kernel), sigma) * constant\n",
    "    return conditional_probabilities"
   ]
  },
  {
   "cell_type": "code",
   "execution_count": null,
   "metadata": {},
   "outputs": [],
   "source": [
    "make_gaussian_kernel(mean, sigma, sample)"
   ]
  },
  {
   "cell_type": "code",
   "execution_count": null,
   "metadata": {},
   "outputs": [],
   "source": [
    "#  loss\n",
    "conditional_probabilities = make_gaussian_kernel(mean, sigma, sample)\n",
    "print(conditional_probabilities)\n",
    "loss = np.multiply(conditional_probabilities, alphas)\n",
    "print(loss)\n",
    "loss = np.sum(loss, 1, keepdims=True)\n",
    "print(loss)\n",
    "loss = -np.log(loss)\n",
    "print(loss)\n",
    "loss = np.mean(loss)\n",
    "\n",
    "print(loss)"
   ]
  },
  {
   "cell_type": "code",
   "execution_count": null,
   "metadata": {},
   "outputs": [],
   "source": []
  }
 ],
 "metadata": {
  "kernelspec": {
   "display_name": "Python 3",
   "language": "python",
   "name": "python3"
  },
  "language_info": {
   "codemirror_mode": {
    "name": "ipython",
    "version": 3
   },
   "file_extension": ".py",
   "mimetype": "text/x-python",
   "name": "python",
   "nbconvert_exporter": "python",
   "pygments_lexer": "ipython3",
   "version": "3.6.8"
  }
 },
 "nbformat": 4,
 "nbformat_minor": 2
}
