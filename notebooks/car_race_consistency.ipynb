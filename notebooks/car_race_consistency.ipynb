{
 "cells": [
  {
   "cell_type": "markdown",
   "metadata": {},
   "source": [
    "## Avoiding corrupt environment observations\n",
    "\n",
    "Use `env.viewer.window.dispatch_events()` following in the `reset()` and `step()` methods.\n",
    "\n",
    "If you don't use it you will get corrupt environment observations!\n",
    "\n",
    "[See the GitHub issue here](https://github.com/openai/gym/issues/976) for the original notebook.  "
   ]
  },
  {
   "cell_type": "code",
   "execution_count": null,
   "metadata": {
    "collapsed": true
   },
   "outputs": [],
   "source": [
    "import gym\n",
    "import numpy as np\n",
    "import matplotlib.pyplot as plt\n",
    "from PIL import Image\n",
    "\n",
    "%matplotlib inline"
   ]
  },
  {
   "cell_type": "code",
   "execution_count": null,
   "metadata": {},
   "outputs": [],
   "source": [
    "ENV_NAME = 'CarRacing-v0'"
   ]
  },
  {
   "cell_type": "code",
   "execution_count": null,
   "metadata": {},
   "outputs": [],
   "source": [
    "# Corrupt case\n",
    "env = gym.make(ENV_NAME)\n",
    "env.seed(123)\n",
    "env.reset()\n",
    "for i in range(100):\n",
    "    s,_,_,_ = env.step([0,0,0])\n",
    "env.close()\n",
    "plt.imshow(s)\n",
    "np.std(s)\n",
    "\n",
    "im = Image.fromarray(s)\n",
    "im.save(\"corrupt.jpeg\")"
   ]
  },
  {
   "cell_type": "code",
   "execution_count": null,
   "metadata": {},
   "outputs": [],
   "source": [
    "# Good case with rendering\n",
    "env = gym.make(ENV_NAME)\n",
    "env.seed(123)\n",
    "env.reset()\n",
    "for i in range(10):\n",
    "    s,_,_,_ = env.step([0,0,0])\n",
    "    env.render()\n",
    "env.close()\n",
    "plt.imshow(s)\n",
    "np.std(s)"
   ]
  },
  {
   "cell_type": "code",
   "execution_count": null,
   "metadata": {},
   "outputs": [],
   "source": [
    "# Good case with just dispatch_events()\n",
    "env = gym.make(ENV_NAME)\n",
    "env.seed(123)\n",
    "env.reset()\n",
    "for i in range(10):\n",
    "    s,_,_,_ = env.step([0,0,0])\n",
    "    env.env.viewer.window.dispatch_events()\n",
    "env.close()\n",
    "plt.imshow(s)\n",
    "np.std(s)"
   ]
  },
  {
   "cell_type": "code",
   "execution_count": null,
   "metadata": {},
   "outputs": [],
   "source": []
  }
 ],
 "metadata": {
  "kernelspec": {
   "display_name": "Python 3",
   "language": "python",
   "name": "python3"
  },
  "language_info": {
   "codemirror_mode": {
    "name": "ipython",
    "version": 3
   },
   "file_extension": ".py",
   "mimetype": "text/x-python",
   "name": "python",
   "nbconvert_exporter": "python",
   "pygments_lexer": "ipython3",
   "version": "3.6.8"
  }
 },
 "nbformat": 4,
 "nbformat_minor": 2
}
