{
 "cells": [
  {
   "cell_type": "markdown",
   "metadata": {},
   "source": [
    "## Optimizing tf.Dataset\n",
    "\n",
    "A key challenge :)"
   ]
  },
  {
   "cell_type": "code",
   "execution_count": 1,
   "metadata": {},
   "outputs": [],
   "source": [
    "import tensorflow as tf\n",
    "\n",
    "from worldmodels.data.tf_records import encode_floats\n",
    "from worldmodels.data.tf_records import shuffle_samples"
   ]
  },
  {
   "cell_type": "code",
   "execution_count": 2,
   "metadata": {},
   "outputs": [],
   "source": [
    "def shuffle_full_episodes(parse_func, records, episode_length, batch_size, num_cpu=4):\n",
    "    \"\"\" used in memory training \"\"\"\n",
    "    files = tf.data.Dataset.from_tensor_slices(records)\n",
    "\n",
    "    dataset = files.interleave(\n",
    "        lambda x: tf.data.TFRecordDataset(x),\n",
    "        block_length=episode_length,\n",
    "        num_parallel_calls=tf.data.experimental.AUTOTUNE,\n",
    "        cycle_length=tf.data.experimental.AUTOTUNE\n",
    "        # cycle_length=num_cpu,\n",
    "    )\n",
    "    dataset = dataset.map(parse_func, num_parallel_calls=num_cpu)\n",
    "    dataset = dataset.batch(episode_length)\n",
    "    dataset = dataset.shuffle(1000)\n",
    "    dataset = dataset.repeat(None)\n",
    "    dataset = dataset.batch(batch_size)\n",
    "    dataset = iter(dataset)\n",
    "    return dataset"
   ]
  },
  {
   "cell_type": "code",
   "execution_count": 3,
   "metadata": {},
   "outputs": [],
   "source": [
    "home = os.environ['HOME']\n",
    "multiple = os.path.join(home, 'world-models-experiments', 'tf-record-opt-multiple')\n",
    "os.makedirs(multiple, exist_ok=True)\n",
    "single = os.path.join(home, 'world-models-experiments', 'tf-record-opt-single')\n",
    "os.makedirs(single, exist_ok=True)\n",
    "\n",
    "def parse_func_multiple(example_proto):\n",
    "    features = {\n",
    "        'sample': tf.io.FixedLenFeature((32,), tf.float32)\n",
    "    }\n",
    "    parsed_features = tf.io.parse_single_example(example_proto, features)\n",
    "    return parsed_features['sample']\n",
    "\n",
    "def parse_func_single(example_proto):\n",
    "    features = {\n",
    "        'sample': tf.io.FixedLenFeature((episode_len, 32), tf.float32)\n",
    "    }\n",
    "    parsed_features = tf.io.parse_single_example(example_proto, features)\n",
    "    return parsed_features['sample']\n",
    "\n",
    "def write_test_data_multiple_records(name, episode_len):\n",
    "    episode = np.random.rand(episode_len, 32).astype(np.float32)\n",
    "\n",
    "    with tf.io.TFRecordWriter(name) as writer:\n",
    "        for sample in episode:\n",
    "            encoded = encode_floats({'sample': sample})\n",
    "            writer.write(encoded)\n",
    "\n",
    "    return episode\n",
    "\n",
    "def write_test_data_single_records(name, episode_len):\n",
    "    episode = np.random.rand(episode_len, 32).astype(np.float32)\n",
    "\n",
    "    with tf.io.TFRecordWriter(name) as writer:\n",
    "        encoded = encode_floats({'sample': episode})\n",
    "        writer.write(encoded)\n",
    "\n",
    "    return episode"
   ]
  },
  {
   "cell_type": "code",
   "execution_count": 4,
   "metadata": {},
   "outputs": [],
   "source": [
    "def make_records(num, direct, rec_func):\n",
    "    records = ['ep{}'.format(n) for n in range(num)]\n",
    "    records = [\n",
    "        os.path.join(direct, '{}.tfrecord'.format(name))\n",
    "        for name in records\n",
    "    ]\n",
    "\n",
    "    episodes = [rec_func(rec, episode_len) for rec in records]\n",
    "    \n",
    "    return records\n",
    "    \n",
    "episode_len = 1000\n",
    "m_rec = make_records(100, multiple, write_test_data_multiple_records)\n",
    "s_rec = make_records(100, single, write_test_data_single_records)"
   ]
  },
  {
   "cell_type": "code",
   "execution_count": 5,
   "metadata": {},
   "outputs": [],
   "source": [
    "m_ds = shuffle_full_episodes(parse_func_multiple, m_rec, episode_len, batch_size=100)"
   ]
  },
  {
   "cell_type": "code",
   "execution_count": 6,
   "metadata": {},
   "outputs": [
    {
     "name": "stdout",
     "output_type": "stream",
     "text": [
      "4.69 s ± 428 ms per loop (mean ± std. dev. of 7 runs, 1 loop each)\n"
     ]
    }
   ],
   "source": [
    "%%timeit\n",
    "next(m_ds).shape"
   ]
  },
  {
   "cell_type": "code",
   "execution_count": 7,
   "metadata": {},
   "outputs": [],
   "source": [
    "s_ds = shuffle_samples(parse_func_single, s_rec, batch_size=10)"
   ]
  },
  {
   "cell_type": "code",
   "execution_count": 8,
   "metadata": {},
   "outputs": [
    {
     "name": "stdout",
     "output_type": "stream",
     "text": [
      "3.41 ms ± 351 µs per loop (mean ± std. dev. of 7 runs, 100 loops each)\n"
     ]
    }
   ],
   "source": [
    "%%timeit\n",
    "next(s_ds).shape"
   ]
  }
 ],
 "metadata": {
  "kernelspec": {
   "display_name": "Python 3",
   "language": "python",
   "name": "python3"
  },
  "language_info": {
   "codemirror_mode": {
    "name": "ipython",
    "version": 3
   },
   "file_extension": ".py",
   "mimetype": "text/x-python",
   "name": "python",
   "nbconvert_exporter": "python",
   "pygments_lexer": "ipython3",
   "version": "3.6.8"
  }
 },
 "nbformat": 4,
 "nbformat_minor": 2
}
