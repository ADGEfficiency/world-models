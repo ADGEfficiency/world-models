{
 "cells": [
  {
   "cell_type": "code",
   "execution_count": 1,
   "metadata": {},
   "outputs": [
    {
     "data": {
      "text/plain": [
       "<Figure size 432x288 with 0 Axes>"
      ]
     },
     "metadata": {},
     "output_type": "display_data"
    }
   ],
   "source": [
    "plt.style.use('ggplot')\n",
    "plt.gcf().subplots_adjust(bottom=0.5)\n",
    "\n",
    "dpi = 120\n",
    "base = (256, 128)\n",
    "scale = 6\n",
    "#fig = plt.figure(constrained_layout=False, figsize=, dpi=dpi)\n",
    "\n",
    "from pylab import rcParams\n",
    "rcParams['figure.figsize'] = (scale*base[0]/dpi, scale*base[1]/dpi)\n",
    "rcParams['font.size'] = 12\n",
    "rcParams['figure.constrained_layout.use'] = False"
   ]
  },
  {
   "cell_type": "markdown",
   "metadata": {},
   "source": [
    "# git history\n",
    "\n",
    "git log --pretty=format:%ai,%h,%an,%ae,%s > out"
   ]
  },
  {
   "cell_type": "code",
   "execution_count": 2,
   "metadata": {},
   "outputs": [
    {
     "data": {
      "text/html": [
       "<div>\n",
       "<style scoped>\n",
       "    .dataframe tbody tr th:only-of-type {\n",
       "        vertical-align: middle;\n",
       "    }\n",
       "\n",
       "    .dataframe tbody tr th {\n",
       "        vertical-align: top;\n",
       "    }\n",
       "\n",
       "    .dataframe thead th {\n",
       "        text-align: right;\n",
       "    }\n",
       "</style>\n",
       "<table border=\"1\" class=\"dataframe\">\n",
       "  <thead>\n",
       "    <tr style=\"text-align: right;\">\n",
       "      <th></th>\n",
       "      <th>date</th>\n",
       "      <th>commit</th>\n",
       "      <th>author</th>\n",
       "      <th>email</th>\n",
       "      <th>message</th>\n",
       "      <th>filename</th>\n",
       "      <th>local-year</th>\n",
       "      <th>local-month</th>\n",
       "      <th>local-day</th>\n",
       "      <th>local-hour</th>\n",
       "      <th>local-day-of-week</th>\n",
       "    </tr>\n",
       "  </thead>\n",
       "  <tbody>\n",
       "    <tr>\n",
       "      <th>0</th>\n",
       "      <td>2020-01-14 22:19:57+01:00</td>\n",
       "      <td>6b47ab5</td>\n",
       "      <td>Adam Green</td>\n",
       "      <td>adam.green@adgefficiency.com</td>\n",
       "      <td>blog post</td>\n",
       "      <td>./data/world-models-commits.csv</td>\n",
       "      <td>2020</td>\n",
       "      <td>1</td>\n",
       "      <td>14</td>\n",
       "      <td>22</td>\n",
       "      <td>1</td>\n",
       "    </tr>\n",
       "    <tr>\n",
       "      <th>1</th>\n",
       "      <td>2020-01-10 16:18:53+01:00</td>\n",
       "      <td>ead772e</td>\n",
       "      <td>Adam Green</td>\n",
       "      <td>adam.green@adgefficiency.com</td>\n",
       "      <td>blog post</td>\n",
       "      <td>./data/world-models-commits.csv</td>\n",
       "      <td>2020</td>\n",
       "      <td>1</td>\n",
       "      <td>10</td>\n",
       "      <td>16</td>\n",
       "      <td>4</td>\n",
       "    </tr>\n",
       "    <tr>\n",
       "      <th>2</th>\n",
       "      <td>2020-01-08 07:28:53+01:00</td>\n",
       "      <td>5867b93</td>\n",
       "      <td>Adam Green</td>\n",
       "      <td>adam.green@adgefficiency.com</td>\n",
       "      <td>vae draft blog post done</td>\n",
       "      <td>./data/world-models-commits.csv</td>\n",
       "      <td>2020</td>\n",
       "      <td>1</td>\n",
       "      <td>8</td>\n",
       "      <td>7</td>\n",
       "      <td>2</td>\n",
       "    </tr>\n",
       "    <tr>\n",
       "      <th>3</th>\n",
       "      <td>2019-12-27 05:03:56+01:00</td>\n",
       "      <td>181a7e1</td>\n",
       "      <td>Adam Green</td>\n",
       "      <td>adam.green@adgefficiency.com</td>\n",
       "      <td>s</td>\n",
       "      <td>./data/world-models-commits.csv</td>\n",
       "      <td>2019</td>\n",
       "      <td>12</td>\n",
       "      <td>27</td>\n",
       "      <td>5</td>\n",
       "      <td>4</td>\n",
       "    </tr>\n",
       "    <tr>\n",
       "      <th>4</th>\n",
       "      <td>2019-12-24 05:31:51+01:00</td>\n",
       "      <td>f570210</td>\n",
       "      <td>Adam Green</td>\n",
       "      <td>adam.green@adgefficiency.com</td>\n",
       "      <td>sync</td>\n",
       "      <td>./data/world-models-commits.csv</td>\n",
       "      <td>2019</td>\n",
       "      <td>12</td>\n",
       "      <td>24</td>\n",
       "      <td>5</td>\n",
       "      <td>1</td>\n",
       "    </tr>\n",
       "  </tbody>\n",
       "</table>\n",
       "</div>"
      ],
      "text/plain": [
       "                        date   commit      author                         email                   message                         filename  local-year  local-month  local-day  local-hour  local-day-of-week\n",
       "0  2020-01-14 22:19:57+01:00  6b47ab5  Adam Green  adam.green@adgefficiency.com                 blog post  ./data/world-models-commits.csv        2020            1         14          22                  1\n",
       "1  2020-01-10 16:18:53+01:00  ead772e  Adam Green  adam.green@adgefficiency.com                 blog post  ./data/world-models-commits.csv        2020            1         10          16                  4\n",
       "2  2020-01-08 07:28:53+01:00  5867b93  Adam Green  adam.green@adgefficiency.com  vae draft blog post done  ./data/world-models-commits.csv        2020            1          8           7                  2\n",
       "3  2019-12-27 05:03:56+01:00  181a7e1  Adam Green  adam.green@adgefficiency.com                         s  ./data/world-models-commits.csv        2019           12         27           5                  4\n",
       "4  2019-12-24 05:31:51+01:00  f570210  Adam Green  adam.green@adgefficiency.com                      sync  ./data/world-models-commits.csv        2019           12         24           5                  1"
      ]
     },
     "execution_count": 2,
     "metadata": {},
     "output_type": "execute_result"
    }
   ],
   "source": [
    "def load_git_history(filename):\n",
    "    d = pd.read_csv(filename)\n",
    "    d.columns = ['date' , 'commit', 'author', 'email', 'message']\n",
    "    d['date'] = pd.to_datetime(d['date'])\n",
    "    d['filename'] = filename\n",
    "    #  needed as different time zones\n",
    "    d.loc[:, 'local-year'] = d['date'].apply(lambda x: x.year)\n",
    "    d.loc[:, 'local-month'] = d['date'].apply(lambda x: x.month)\n",
    "    d.loc[:, 'local-day'] = d['date'].apply(lambda x: x.day)\n",
    "    d.loc[:, 'local-hour'] = d['date'].apply(lambda x: x.hour)\n",
    "    d.loc[:, 'local-day-of-week'] = d['date'].apply(lambda x: x.weekday())\n",
    "    return d\n",
    "\n",
    "wm = load_git_history('./data/world-models-commits.csv')\n",
    "\n",
    "wm.head()"
   ]
  },
  {
   "cell_type": "code",
   "execution_count": 3,
   "metadata": {},
   "outputs": [
    {
     "data": {
      "text/html": [
       "<div>\n",
       "<style scoped>\n",
       "    .dataframe tbody tr th:only-of-type {\n",
       "        vertical-align: middle;\n",
       "    }\n",
       "\n",
       "    .dataframe tbody tr th {\n",
       "        vertical-align: top;\n",
       "    }\n",
       "\n",
       "    .dataframe thead th {\n",
       "        text-align: right;\n",
       "    }\n",
       "</style>\n",
       "<table border=\"1\" class=\"dataframe\">\n",
       "  <thead>\n",
       "    <tr style=\"text-align: right;\">\n",
       "      <th></th>\n",
       "      <th>date</th>\n",
       "      <th>commit</th>\n",
       "      <th>author</th>\n",
       "      <th>email</th>\n",
       "      <th>message</th>\n",
       "      <th>filename</th>\n",
       "      <th>local-year</th>\n",
       "      <th>local-month</th>\n",
       "      <th>local-day</th>\n",
       "      <th>local-hour</th>\n",
       "      <th>local-day-of-week</th>\n",
       "    </tr>\n",
       "  </thead>\n",
       "  <tbody>\n",
       "    <tr>\n",
       "      <th>0</th>\n",
       "      <td>2019-11-17 10:32:23+01:00</td>\n",
       "      <td>0bd05f2</td>\n",
       "      <td>Adam Green</td>\n",
       "      <td>adam.green@adgefficiency.com</td>\n",
       "      <td>dsr</td>\n",
       "      <td>./data/all-mono-commits.csv</td>\n",
       "      <td>2019</td>\n",
       "      <td>11</td>\n",
       "      <td>17</td>\n",
       "      <td>10</td>\n",
       "      <td>6</td>\n",
       "    </tr>\n",
       "    <tr>\n",
       "      <th>1</th>\n",
       "      <td>2019-10-09 21:56:58+02:00</td>\n",
       "      <td>cf43aea</td>\n",
       "      <td>Adam Green</td>\n",
       "      <td>adam.green@adgefficiency.com</td>\n",
       "      <td>dsr</td>\n",
       "      <td>./data/all-mono-commits.csv</td>\n",
       "      <td>2019</td>\n",
       "      <td>10</td>\n",
       "      <td>9</td>\n",
       "      <td>21</td>\n",
       "      <td>2</td>\n",
       "    </tr>\n",
       "    <tr>\n",
       "      <th>2</th>\n",
       "      <td>2019-09-29 00:15:02+02:00</td>\n",
       "      <td>f5fb7f7</td>\n",
       "      <td>Adam Green</td>\n",
       "      <td>adam.green@adgefficiency.com</td>\n",
       "      <td>sync</td>\n",
       "      <td>./data/all-mono-commits.csv</td>\n",
       "      <td>2019</td>\n",
       "      <td>9</td>\n",
       "      <td>29</td>\n",
       "      <td>0</td>\n",
       "      <td>6</td>\n",
       "    </tr>\n",
       "    <tr>\n",
       "      <th>3</th>\n",
       "      <td>2019-08-08 02:43:34+02:00</td>\n",
       "      <td>482e1f0</td>\n",
       "      <td>Adam Green</td>\n",
       "      <td>adam.green@adgefficiency.com</td>\n",
       "      <td>dsr</td>\n",
       "      <td>./data/all-mono-commits.csv</td>\n",
       "      <td>2019</td>\n",
       "      <td>8</td>\n",
       "      <td>8</td>\n",
       "      <td>2</td>\n",
       "      <td>3</td>\n",
       "    </tr>\n",
       "    <tr>\n",
       "      <th>4</th>\n",
       "      <td>2019-08-08 02:43:10+02:00</td>\n",
       "      <td>5f58d0d</td>\n",
       "      <td>Adam Green</td>\n",
       "      <td>adam.green@adgefficiency.com</td>\n",
       "      <td>wm refactor</td>\n",
       "      <td>./data/all-mono-commits.csv</td>\n",
       "      <td>2019</td>\n",
       "      <td>8</td>\n",
       "      <td>8</td>\n",
       "      <td>2</td>\n",
       "      <td>3</td>\n",
       "    </tr>\n",
       "  </tbody>\n",
       "</table>\n",
       "</div>"
      ],
      "text/plain": [
       "                        date   commit      author                         email      message                     filename  local-year  local-month  local-day  local-hour  local-day-of-week\n",
       "0  2019-11-17 10:32:23+01:00  0bd05f2  Adam Green  adam.green@adgefficiency.com          dsr  ./data/all-mono-commits.csv        2019           11         17          10                  6\n",
       "1  2019-10-09 21:56:58+02:00  cf43aea  Adam Green  adam.green@adgefficiency.com          dsr  ./data/all-mono-commits.csv        2019           10          9          21                  2\n",
       "2  2019-09-29 00:15:02+02:00  f5fb7f7  Adam Green  adam.green@adgefficiency.com         sync  ./data/all-mono-commits.csv        2019            9         29           0                  6\n",
       "3  2019-08-08 02:43:34+02:00  482e1f0  Adam Green  adam.green@adgefficiency.com          dsr  ./data/all-mono-commits.csv        2019            8          8           2                  3\n",
       "4  2019-08-08 02:43:10+02:00  5f58d0d  Adam Green  adam.green@adgefficiency.com  wm refactor  ./data/all-mono-commits.csv        2019            8          8           2                  3"
      ]
     },
     "execution_count": 3,
     "metadata": {},
     "output_type": "execute_result"
    }
   ],
   "source": [
    "mono = load_git_history('./data/all-mono-commits.csv')\n",
    "mono.head()"
   ]
  },
  {
   "cell_type": "code",
   "execution_count": 4,
   "metadata": {},
   "outputs": [
    {
     "name": "stdout",
     "output_type": "stream",
     "text": [
      "47\n"
     ]
    }
   ],
   "source": [
    "mask = mono['message'].str.contains('wm').astype(int) + mono['message'].str.contains('world models').astype(int) \n",
    "print(sum(mask))\n",
    "\n",
    "mask = mask.astype(bool)"
   ]
  },
  {
   "cell_type": "code",
   "execution_count": 5,
   "metadata": {},
   "outputs": [],
   "source": [
    "mono_wm = mono.loc[mask, :]"
   ]
  },
  {
   "cell_type": "code",
   "execution_count": 6,
   "metadata": {},
   "outputs": [],
   "source": [
    "mono_wm.to_csv('./data/mono-commits.csv')"
   ]
  },
  {
   "cell_type": "code",
   "execution_count": 7,
   "metadata": {},
   "outputs": [
    {
     "data": {
      "text/html": [
       "<div>\n",
       "<style scoped>\n",
       "    .dataframe tbody tr th:only-of-type {\n",
       "        vertical-align: middle;\n",
       "    }\n",
       "\n",
       "    .dataframe tbody tr th {\n",
       "        vertical-align: top;\n",
       "    }\n",
       "\n",
       "    .dataframe thead th {\n",
       "        text-align: right;\n",
       "    }\n",
       "</style>\n",
       "<table border=\"1\" class=\"dataframe\">\n",
       "  <thead>\n",
       "    <tr style=\"text-align: right;\">\n",
       "      <th></th>\n",
       "      <th></th>\n",
       "      <th></th>\n",
       "      <th>date</th>\n",
       "      <th>commit</th>\n",
       "      <th>author</th>\n",
       "      <th>email</th>\n",
       "      <th>message</th>\n",
       "      <th>filename</th>\n",
       "      <th>local-hour</th>\n",
       "      <th>local-day-of-week</th>\n",
       "    </tr>\n",
       "    <tr>\n",
       "      <th>local-year</th>\n",
       "      <th>local-month</th>\n",
       "      <th>local-day</th>\n",
       "      <th></th>\n",
       "      <th></th>\n",
       "      <th></th>\n",
       "      <th></th>\n",
       "      <th></th>\n",
       "      <th></th>\n",
       "      <th></th>\n",
       "      <th></th>\n",
       "    </tr>\n",
       "  </thead>\n",
       "  <tbody>\n",
       "    <tr>\n",
       "      <th rowspan=\"5\" valign=\"top\">2019</th>\n",
       "      <th rowspan=\"3\" valign=\"top\">4</th>\n",
       "      <th>11</th>\n",
       "      <td>1</td>\n",
       "      <td>1</td>\n",
       "      <td>1</td>\n",
       "      <td>1</td>\n",
       "      <td>1</td>\n",
       "      <td>1</td>\n",
       "      <td>1</td>\n",
       "      <td>1</td>\n",
       "    </tr>\n",
       "    <tr>\n",
       "      <th>12</th>\n",
       "      <td>1</td>\n",
       "      <td>1</td>\n",
       "      <td>1</td>\n",
       "      <td>1</td>\n",
       "      <td>1</td>\n",
       "      <td>1</td>\n",
       "      <td>1</td>\n",
       "      <td>1</td>\n",
       "    </tr>\n",
       "    <tr>\n",
       "      <th>23</th>\n",
       "      <td>1</td>\n",
       "      <td>1</td>\n",
       "      <td>1</td>\n",
       "      <td>1</td>\n",
       "      <td>1</td>\n",
       "      <td>1</td>\n",
       "      <td>1</td>\n",
       "      <td>1</td>\n",
       "    </tr>\n",
       "    <tr>\n",
       "      <th rowspan=\"2\" valign=\"top\">5</th>\n",
       "      <th>2</th>\n",
       "      <td>1</td>\n",
       "      <td>1</td>\n",
       "      <td>1</td>\n",
       "      <td>1</td>\n",
       "      <td>1</td>\n",
       "      <td>1</td>\n",
       "      <td>1</td>\n",
       "      <td>1</td>\n",
       "    </tr>\n",
       "    <tr>\n",
       "      <th>5</th>\n",
       "      <td>1</td>\n",
       "      <td>1</td>\n",
       "      <td>1</td>\n",
       "      <td>1</td>\n",
       "      <td>1</td>\n",
       "      <td>1</td>\n",
       "      <td>1</td>\n",
       "      <td>1</td>\n",
       "    </tr>\n",
       "  </tbody>\n",
       "</table>\n",
       "</div>"
      ],
      "text/plain": [
       "                                  date  commit  author  email  message  filename  local-hour  local-day-of-week\n",
       "local-year local-month local-day                                                                               \n",
       "2019       4           11            1       1       1      1        1         1           1                  1\n",
       "                       12            1       1       1      1        1         1           1                  1\n",
       "                       23            1       1       1      1        1         1           1                  1\n",
       "           5           2             1       1       1      1        1         1           1                  1\n",
       "                       5             1       1       1      1        1         1           1                  1"
      ]
     },
     "execution_count": 7,
     "metadata": {},
     "output_type": "execute_result"
    }
   ],
   "source": [
    "commits = pd.concat([wm, mono_wm], axis=0)\n",
    "\n",
    "daily = commits.groupby([commits['local-year'], commits['local-month'], commits['local-day']]).count()\n",
    "daily.head()"
   ]
  },
  {
   "cell_type": "code",
   "execution_count": 8,
   "metadata": {},
   "outputs": [
    {
     "data": {
      "image/png": "[encoded data removed]",
      "text/plain": [
       "<Figure size 921.6x460.8 with 1 Axes>"
      ]
     },
     "metadata": {},
     "output_type": "display_data"
    }
   ],
   "source": [
    "dayofweek = commits.groupby([commits['local-day-of-week']]).count()\n",
    "dayofweek.index = ['monday', 'tuesday', 'wednesday', 'thursday', 'friday', 'saturday', 'sunday']\n",
    "ax = dayofweek.loc[:, 'date'].plot(kind='bar')\n",
    "ax.grid(False)\n",
    "ax.set_facecolor('white')\n",
    "ax.set_xlabel('')\n",
    "ax.set_ylabel('Commits')\n",
    "plt.savefig('/Users/adam/git/adgefficiency.github.io/assets/world-models/commits-week.png')"
   ]
  },
  {
   "cell_type": "code",
   "execution_count": 9,
   "metadata": {},
   "outputs": [
    {
     "data": {
      "image/png": "[encoded data removed]",
      "text/plain": [
       "<Figure size 921.6x460.8 with 1 Axes>"
      ]
     },
     "metadata": {},
     "output_type": "display_data"
    }
   ],
   "source": [
    "hour = commits.groupby([commits['local-hour']]).count()\n",
    "ax = hour.loc[:, 'date'].plot(kind='bar')\n",
    "ax.grid(False)\n",
    "ax.set_facecolor('white')\n",
    "ax.set_xlabel('')\n",
    "ax.set_ylabel('Commits')\n",
    "plt.savefig('/Users/adam/git/adgefficiency.github.io/assets/world-models/commits-hour.png')"
   ]
  },
  {
   "cell_type": "code",
   "execution_count": 10,
   "metadata": {},
   "outputs": [
    {
     "data": {
      "image/png": "[encoded data removed]",
      "text/plain": [
       "<Figure size 921.6x460.8 with 1 Axes>"
      ]
     },
     "metadata": {},
     "output_type": "display_data"
    }
   ],
   "source": [
    "fig = plt.figure()\n",
    "ax = fig.add_subplot(111, projection=\"polar\")"
   ]
  },
  {
   "cell_type": "code",
   "execution_count": 11,
   "metadata": {},
   "outputs": [
    {
     "data": {
      "text/plain": [
       "DatetimeIndex(['2020-01-14 22:19:57', '2020-01-10 16:18:53', '2020-01-08 07:28:53', '2019-12-27 05:03:56', '2019-12-24 05:31:51', '2019-12-24 04:14:28', '2019-12-22 05:07:33', '2019-12-22 02:20:14', '2019-12-22 01:31:40', '2019-12-20 22:18:57',\n",
       "               ...\n",
       "               '2019-06-15 14:45:41', '2019-06-15 11:42:53', '2019-06-15 11:24:03', '2019-06-15 09:27:55', '2019-06-04 19:26:33', '2019-05-05 18:21:18', '2019-05-02 23:08:42', '2019-04-23 17:55:33', '2019-04-12 05:38:31', '2019-04-11 22:58:59'], dtype='datetime64[ns]', length=125, freq=None)"
      ]
     },
     "execution_count": 11,
     "metadata": {},
     "output_type": "execute_result"
    }
   ],
   "source": [
    "commits['date']\n",
    "\n",
    "d = [date.replace(tzinfo=None) for date in commits['date']]\n",
    "\n",
    "pd.to_datetime(d)"
   ]
  },
  {
   "cell_type": "code",
   "execution_count": 12,
   "metadata": {},
   "outputs": [
    {
     "data": {
      "image/png": "[encoded data removed]",
      "text/plain": [
       "<Figure size 921.6x460.8 with 1 Axes>"
      ]
     },
     "metadata": {},
     "output_type": "display_data"
    }
   ],
   "source": [
    "dayofweek = commits.groupby([commits['local-year'], commits['local-month']]).count()\n",
    "f, ax = plt.subplots()\n",
    "dayofweek.loc[:, 'date'].plot(kind='bar', ax=ax)\n",
    "ax.grid(False)\n",
    "ax.set_facecolor('white')\n",
    "ax.set_xlabel('')\n",
    "ax.set_ylabel('Commits')\n",
    "plt.tight_layout()\n",
    "import matplotlib.dates as mdates\n",
    "\n",
    "for label in ax.get_xticklabels():\n",
    "    label.set_rotation(40)\n",
    "    label.set_horizontalalignment('right')\n",
    "    o = label.get_text()\n",
    "\n",
    "f.savefig('/Users/adam/git/adgefficiency.github.io/assets/world-models/commits-month.png')"
   ]
  },
  {
   "cell_type": "code",
   "execution_count": 13,
   "metadata": {},
   "outputs": [
    {
     "data": {
      "text/plain": [
       "datetime.datetime(2019, 4, 11, 22, 58, 59, tzinfo=tzoffset(None, 43200))"
      ]
     },
     "execution_count": 13,
     "metadata": {},
     "output_type": "execute_result"
    }
   ],
   "source": [
    "min(commits['date'])"
   ]
  },
  {
   "cell_type": "code",
   "execution_count": 14,
   "metadata": {},
   "outputs": [
    {
     "data": {
      "text/plain": [
       "{'./data/all-mono-commits.csv', './data/world-models-commits.csv'}"
      ]
     },
     "execution_count": 14,
     "metadata": {},
     "output_type": "execute_result"
    }
   ],
   "source": [
    "set(commits['filename'])"
   ]
  },
  {
   "cell_type": "code",
   "execution_count": null,
   "metadata": {},
   "outputs": [],
   "source": []
  },
  {
   "cell_type": "code",
   "execution_count": null,
   "metadata": {},
   "outputs": [],
   "source": []
  }
 ],
 "metadata": {
  "kernelspec": {
   "display_name": "Python 3",
   "language": "python",
   "name": "python3"
  },
  "language_info": {
   "codemirror_mode": {
    "name": "ipython",
    "version": 3
   },
   "file_extension": ".py",
   "mimetype": "text/x-python",
   "name": "python",
   "nbconvert_exporter": "python",
   "pygments_lexer": "ipython3",
   "version": "3.6.8"
  }
 },
 "nbformat": 4,
 "nbformat_minor": 2
}
